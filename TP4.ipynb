{
  "cells": [
    {
      "cell_type": "markdown",
      "metadata": {
        "id": "bsiPGpTWYPI8"
      },
      "source": [
        "# Recognizing Traffic Signs\n",
        "The goal of this project is to build a model capable of determining the type of traffic sign that is displayed in an image captured under different real-life conditions and showing obstructions, poor lighting, or even the sign being far away from the camera. We provide you with labeled images already splited in three files (tran/val/test) and a predefined list of signs to recognise. "
      ]
    },
    {
      "cell_type": "code",
      "execution_count": 1,
      "metadata": {
        "colab": {
          "base_uri": "https://localhost:8080/"
        },
        "id": "nHZV5LlvYPI_",
        "outputId": "0adcc7fe-48b6-4bf0-a0ef-872e30e56eca"
      },
      "outputs": [
        {
          "output_type": "stream",
          "name": "stdout",
          "text": [
            "--2022-10-28 21:43:12--  https://raw.githubusercontent.com/emmanueliarussi/DataScienceCapstone/master/3_MidtermProjects/ProjectRTS/data/data_1.zip\n",
            "Resolving raw.githubusercontent.com (raw.githubusercontent.com)... 185.199.110.133, 185.199.111.133, 185.199.108.133, ...\n",
            "Connecting to raw.githubusercontent.com (raw.githubusercontent.com)|185.199.110.133|:443... connected.\n",
            "HTTP request sent, awaiting response... 200 OK\n",
            "Length: 32074743 (31M) [application/zip]\n",
            "Saving to: ‘dataroot/data_1.zip’\n",
            "\n",
            "data_1.zip          100%[===================>]  30.59M   174MB/s    in 0.2s    \n",
            "\n",
            "2022-10-28 21:43:13 (174 MB/s) - ‘dataroot/data_1.zip’ saved [32074743/32074743]\n",
            "\n",
            "--2022-10-28 21:43:13--  https://raw.githubusercontent.com/emmanueliarussi/DataScienceCapstone/master/3_MidtermProjects/ProjectRTS/data/data_2.zip\n",
            "Resolving raw.githubusercontent.com (raw.githubusercontent.com)... 185.199.108.133, 185.199.109.133, 185.199.110.133, ...\n",
            "Connecting to raw.githubusercontent.com (raw.githubusercontent.com)|185.199.108.133|:443... connected.\n",
            "HTTP request sent, awaiting response... 200 OK\n",
            "Length: 81170396 (77M) [application/zip]\n",
            "Saving to: ‘dataroot/data_2.zip’\n",
            "\n",
            "data_2.zip          100%[===================>]  77.41M   196MB/s    in 0.4s    \n",
            "\n",
            "2022-10-28 21:43:14 (196 MB/s) - ‘dataroot/data_2.zip’ saved [81170396/81170396]\n",
            "\n",
            "--2022-10-28 21:43:14--  https://raw.githubusercontent.com/emmanueliarussi/DataScienceCapstone/master/3_MidtermProjects/ProjectRTS/data/data_3.zip\n",
            "Resolving raw.githubusercontent.com (raw.githubusercontent.com)... 185.199.108.133, 185.199.109.133, 185.199.110.133, ...\n",
            "Connecting to raw.githubusercontent.com (raw.githubusercontent.com)|185.199.108.133|:443... connected.\n",
            "HTTP request sent, awaiting response... 200 OK\n",
            "Length: 10280567 (9.8M) [application/zip]\n",
            "Saving to: ‘dataroot/data_3.zip’\n",
            "\n",
            "data_3.zip          100%[===================>]   9.80M  --.-KB/s    in 0.09s   \n",
            "\n",
            "2022-10-28 21:43:15 (104 MB/s) - ‘dataroot/data_3.zip’ saved [10280567/10280567]\n",
            "\n"
          ]
        }
      ],
      "source": [
        "# Download and unzip\n",
        "dataroot = \"dataroot/\"\n",
        "!mkdir dataroot \n",
        "!wget -P dataroot https://raw.githubusercontent.com/emmanueliarussi/DataScienceCapstone/master/3_MidtermProjects/ProjectRTS/data/data_1.zip\n",
        "!wget -P dataroot https://raw.githubusercontent.com/emmanueliarussi/DataScienceCapstone/master/3_MidtermProjects/ProjectRTS/data/data_2.zip\n",
        "!wget -P dataroot https://raw.githubusercontent.com/emmanueliarussi/DataScienceCapstone/master/3_MidtermProjects/ProjectRTS/data/data_3.zip "
      ]
    },
    {
      "cell_type": "code",
      "execution_count": 2,
      "metadata": {
        "id": "ThYev-CoYPI_"
      },
      "outputs": [],
      "source": [
        "# Unzip\n",
        "import zipfile\n",
        "with zipfile.ZipFile(dataroot+\"data_1.zip\",\"r\") as zip_ref:\n",
        "    zip_ref.extractall(dataroot)\n",
        "with zipfile.ZipFile(dataroot+\"data_2.zip\",\"r\") as zip_ref:\n",
        "    zip_ref.extractall(dataroot)\n",
        "with zipfile.ZipFile(dataroot+\"data_3.zip\",\"r\") as zip_ref:\n",
        "    zip_ref.extractall(dataroot)"
      ]
    },
    {
      "cell_type": "code",
      "execution_count": 3,
      "metadata": {
        "colab": {
          "base_uri": "https://localhost:8080/"
        },
        "id": "5PPAM6vHYPJA",
        "outputId": "81a0bb0a-c21a-4af3-a66d-0d7b75673af1"
      },
      "outputs": [
        {
          "output_type": "execute_result",
          "data": {
            "text/plain": [
              "{0: 'Speed limit (20km/h)',\n",
              " 1: 'Speed limit (30km/h)',\n",
              " 2: 'Speed limit (50km/h)',\n",
              " 3: 'Speed limit (60km/h)',\n",
              " 4: 'Speed limit (70km/h)',\n",
              " 5: 'Speed limit (80km/h)',\n",
              " 6: 'End of speed limit (80km/h)',\n",
              " 7: 'Speed limit (100km/h)',\n",
              " 8: 'Speed limit (120km/h)',\n",
              " 9: 'No passing',\n",
              " 10: 'No passing for vehicles over 3.5 metric tons',\n",
              " 11: 'Right-of-way at the next intersection',\n",
              " 12: 'Priority road',\n",
              " 13: 'Yield',\n",
              " 14: 'Stop',\n",
              " 15: 'No vehicles',\n",
              " 16: 'Vehicles over 3.5 metric tons prohibited',\n",
              " 17: 'No entry',\n",
              " 18: 'General caution',\n",
              " 19: 'Dangerous curve to the left',\n",
              " 20: 'Dangerous curve to the right',\n",
              " 21: 'Double curve',\n",
              " 22: 'Bumpy road',\n",
              " 23: 'Slippery road',\n",
              " 24: 'Road narrows on the right',\n",
              " 25: 'Road work',\n",
              " 26: 'Traffic signals',\n",
              " 27: 'Pedestrians',\n",
              " 28: 'Children crossing',\n",
              " 29: 'Bicycles crossing',\n",
              " 30: 'Beware of ice/snow',\n",
              " 31: 'Wild animals crossing',\n",
              " 32: 'End of all speed and passing limits',\n",
              " 33: 'Turn right ahead',\n",
              " 34: 'Turn left ahead',\n",
              " 35: 'Ahead only',\n",
              " 36: 'Go straight or right',\n",
              " 37: 'Go straight or left',\n",
              " 38: 'Keep right',\n",
              " 39: 'Keep left',\n",
              " 40: 'Roundabout mandatory',\n",
              " 41: 'End of no passing',\n",
              " 42: 'End of no passing by vehicles over 3.5 metric tons'}"
            ]
          },
          "metadata": {},
          "execution_count": 3
        }
      ],
      "source": [
        "# Load sign names\n",
        "import pandas as pd\n",
        "df = pd.read_csv(\"https://raw.githubusercontent.com/emmanueliarussi/DataScienceCapstone/master/3_MidtermProjects/ProjectRTS/data/signnames.csv\")\n",
        "signnames = pd.Series(df.SignName.values,index=df.ClassId).to_dict()\n",
        "signnames"
      ]
    },
    {
      "cell_type": "code",
      "execution_count": 4,
      "metadata": {
        "id": "PnM3EYIZYPJA"
      },
      "outputs": [],
      "source": [
        "# Load images\n",
        "import pickle\n",
        "signimages = pickle.load( open( dataroot+\"train.p\", \"rb\" ) )\n",
        "signimages_test = pickle.load( open( dataroot+\"test.p\", \"rb\" ) )\n",
        "signimages_val = pickle.load( open( dataroot+\"valid.p\", \"rb\" ) )\n"
      ]
    },
    {
      "cell_type": "code",
      "execution_count": 5,
      "metadata": {
        "colab": {
          "base_uri": "https://localhost:8080/",
          "height": 283
        },
        "id": "67LGLoxwYPJA",
        "outputId": "94ecf0bb-e636-434f-ac3b-104131af8e04"
      },
      "outputs": [
        {
          "output_type": "stream",
          "name": "stdout",
          "text": [
            "The image shows a Turn left ahead sign\n"
          ]
        },
        {
          "output_type": "display_data",
          "data": {
            "text/plain": [
              "<Figure size 432x288 with 1 Axes>"
            ],
            "image/png": "[encoded data removed]"
          },
          "metadata": {
            "needs_background": "light"
          }
        }
      ],
      "source": [
        "# Preview image\n",
        "import matplotlib.pyplot as plt\n",
        "import numpy as np\n",
        "import cv2\n",
        "\n",
        "inx = 20123\n",
        "plt.imshow(signimages['features'][inx])\n",
        "print(\"The image shows a {} sign\".format(signnames[signimages['labels'][inx]]))"
      ]
    },
    {
      "cell_type": "markdown",
      "metadata": {
        "id": "pFBI6zpJagYm"
      },
      "source": [
        "Las imágenes son de 32x32x3 ya que es RGB.\n",
        "Por lo tanto cada imagen está representada por 3072 elementos."
      ]
    },
    {
      "cell_type": "markdown",
      "source": [
        "Se transforma la matriz de 32x32x3 en un vector de 3072"
      ],
      "metadata": {
        "id": "e0TcwOt4ut9P"
      }
    },
    {
      "cell_type": "code",
      "execution_count": 14,
      "metadata": {
        "id": "p8DLHT7_clF0"
      },
      "outputs": [],
      "source": [
        "X= np.zeros([len(signimages['features']), 32*32*3])\n",
        "for i in range(len(signimages['features'])):\n",
        "  # input= np.array([32,32,3], dtype=\"uint8\")\n",
        "  input= np.array(signimages['features'][i])\n",
        "  X[i]= input.flatten('C')\n"
      ]
    },
    {
      "cell_type": "code",
      "execution_count": 15,
      "metadata": {
        "colab": {
          "base_uri": "https://localhost:8080/"
        },
        "id": "W8tUV6JWhQ84",
        "outputId": "e69c3383-08b8-4ba3-fe64-826cc56cf43f"
      },
      "outputs": [
        {
          "output_type": "execute_result",
          "data": {
            "text/plain": [
              "34799"
            ]
          },
          "metadata": {},
          "execution_count": 15
        }
      ],
      "source": [
        "len(signimages['features'])"
      ]
    },
    {
      "cell_type": "code",
      "execution_count": 16,
      "metadata": {
        "id": "XnDQKF5Qf9BC"
      },
      "outputs": [],
      "source": [
        "input= np.array(signimages['features'][0])\n"
      ]
    },
    {
      "cell_type": "code",
      "execution_count": 17,
      "metadata": {
        "colab": {
          "base_uri": "https://localhost:8080/"
        },
        "id": "RmfBUpJZf-S1",
        "outputId": "54f6be0f-1a8c-45a7-ff32-78282b702d1d"
      },
      "outputs": [
        {
          "output_type": "execute_result",
          "data": {
            "text/plain": [
              "(3072,)"
            ]
          },
          "metadata": {},
          "execution_count": 17
        }
      ],
      "source": [
        "input_flat=input.flatten('F')\n",
        "input_flat.shape"
      ]
    },
    {
      "cell_type": "code",
      "execution_count": 18,
      "metadata": {
        "colab": {
          "base_uri": "https://localhost:8080/"
        },
        "id": "qu_XumQpf_2F",
        "outputId": "acf39a21-21ec-4dc1-9bad-306a7a1f7dc2"
      },
      "outputs": [
        {
          "output_type": "execute_result",
          "data": {
            "text/plain": [
              "28"
            ]
          },
          "metadata": {},
          "execution_count": 18
        }
      ],
      "source": [
        "signimages['features'][0][0][0][0]"
      ]
    },
    {
      "cell_type": "code",
      "execution_count": 19,
      "metadata": {
        "colab": {
          "base_uri": "https://localhost:8080/"
        },
        "id": "I8sHGLDrgI8D",
        "outputId": "b3134835-3437-4e97-a84b-2e85cc27b157"
      },
      "outputs": [
        {
          "output_type": "execute_result",
          "data": {
            "text/plain": [
              "(34799, 3072)"
            ]
          },
          "metadata": {},
          "execution_count": 19
        }
      ],
      "source": [
        "X.shape"
      ]
    },
    {
      "cell_type": "markdown",
      "source": [
        "Cargo las características de la imágen de entrenamiento en X_train y en y_train cargo las etiquetas"
      ],
      "metadata": {
        "id": "-GSDbvcKvQla"
      }
    },
    {
      "cell_type": "code",
      "execution_count": 21,
      "metadata": {
        "id": "5U87xbYVhsPX"
      },
      "outputs": [],
      "source": [
        "X_train= X\n",
        "y_train= np.array(signimages['labels'])"
      ]
    },
    {
      "cell_type": "code",
      "execution_count": 22,
      "metadata": {
        "colab": {
          "base_uri": "https://localhost:8080/"
        },
        "id": "UvemLU-WhzWQ",
        "outputId": "efaa1d24-2b87-4ee3-b1ad-0aabfb1a4e7e"
      },
      "outputs": [
        {
          "output_type": "execute_result",
          "data": {
            "text/plain": [
              "((34799, 3072), (34799,))"
            ]
          },
          "metadata": {},
          "execution_count": 22
        }
      ],
      "source": [
        "X_train.shape, y_train.shape"
      ]
    },
    {
      "cell_type": "markdown",
      "source": [
        "De Forma analoga hago lo mismo con los datos de Test y de Validación"
      ],
      "metadata": {
        "id": "aZ_eejdAvYl1"
      }
    },
    {
      "cell_type": "code",
      "execution_count": 23,
      "metadata": {
        "id": "zkIRlLn4h7_8"
      },
      "outputs": [],
      "source": [
        "X_test= np.zeros([len(signimages_test['features']), 32*32*3])\n",
        "for i in range(len(signimages_test['features'])):\n",
        "  # input= np.array([32,32,3], dtype=\"uint8\")\n",
        "  input= np.array(signimages_test['features'][i])\n",
        "  X_test[i]= input.flatten('C')\n"
      ]
    },
    {
      "cell_type": "code",
      "execution_count": 24,
      "metadata": {
        "id": "MypgaSh2ibfL"
      },
      "outputs": [],
      "source": [
        "X_val= np.zeros([len(signimages_val['features']), 32*32*3])\n",
        "for i in range(len(signimages_val['features'])):\n",
        "  # input= np.array([32,32,3], dtype=\"uint8\")\n",
        "  input= np.array(signimages_val['features'][i])\n",
        "  X_val[i]= input.flatten('C')"
      ]
    },
    {
      "cell_type": "code",
      "execution_count": 25,
      "metadata": {
        "colab": {
          "base_uri": "https://localhost:8080/"
        },
        "id": "ppnLi-2aijYD",
        "outputId": "708576da-45eb-48ef-f8df-215927791913"
      },
      "outputs": [
        {
          "output_type": "execute_result",
          "data": {
            "text/plain": [
              "((12630, 3072), (4410, 3072))"
            ]
          },
          "metadata": {},
          "execution_count": 25
        }
      ],
      "source": [
        "X_test.shape, X_val.shape"
      ]
    },
    {
      "cell_type": "code",
      "execution_count": 26,
      "metadata": {
        "id": "wx5cECfGim0E"
      },
      "outputs": [],
      "source": [
        "y_test= np.array(signimages_test['labels'])\n",
        "y_val= np.array(signimages_val['labels'])"
      ]
    },
    {
      "cell_type": "code",
      "execution_count": 27,
      "metadata": {
        "colab": {
          "base_uri": "https://localhost:8080/"
        },
        "id": "zVPDw4SjisQf",
        "outputId": "e7a28900-4059-4c6d-aecd-b026aa100b39"
      },
      "outputs": [
        {
          "output_type": "execute_result",
          "data": {
            "text/plain": [
              "((12630,), (4410,))"
            ]
          },
          "metadata": {},
          "execution_count": 27
        }
      ],
      "source": [
        "y_test.shape, y_val.shape"
      ]
    },
    {
      "cell_type": "markdown",
      "metadata": {
        "id": "i_VuHmoEnOgM"
      },
      "source": [
        "Normalizo las variables entre 0 y 1"
      ]
    },
    {
      "cell_type": "code",
      "execution_count": 28,
      "metadata": {
        "id": "RWFIsacinNwv"
      },
      "outputs": [],
      "source": [
        "X_train= X_train/255\n",
        "X_test= X_test/255\n",
        "X_val= X_val/255\n"
      ]
    },
    {
      "cell_type": "code",
      "source": [
        "from sklearn.neural_network import MLPClassifier"
      ],
      "metadata": {
        "id": "QMW2h8P-vBay"
      },
      "execution_count": 79,
      "outputs": []
    },
    {
      "cell_type": "code",
      "source": [
        "from sklearn import preprocessing"
      ],
      "metadata": {
        "id": "TOk0X6hwk8mN"
      },
      "execution_count": 34,
      "outputs": []
    },
    {
      "cell_type": "markdown",
      "source": [
        "Como las imagenes fueron tomadas en diferentes condiciones de luz, se normaliza las imagenes.\n",
        "StandarScaler, resta el promedio, y escala la varianza a 1."
      ],
      "metadata": {
        "id": "K9pfZ_M8vdoP"
      }
    },
    {
      "cell_type": "code",
      "source": [
        "scaler = preprocessing.StandardScaler().fit(X_train)"
      ],
      "metadata": {
        "id": "vm-0TbQplFuW"
      },
      "execution_count": 35,
      "outputs": []
    },
    {
      "cell_type": "code",
      "source": [
        "X_scaled = scaler.transform(X_train)"
      ],
      "metadata": {
        "id": "cMtFsPGHlRkW"
      },
      "execution_count": 39,
      "outputs": []
    },
    {
      "cell_type": "markdown",
      "source": [
        "Creo un clasificador de Perceptron multicapa.\n",
        "En este caso creo 3 capas, con 256 neuronas cada uno.\n",
        "Defino la cantidad de epocas en 100\n",
        "Uso la activación RELU.\n",
        "Como optimizador, utilizo ADAM\n",
        "Utilizo como tasa de aprendizaje 0.001"
      ],
      "metadata": {
        "id": "XXGvWqNcwDYP"
      }
    },
    {
      "cell_type": "code",
      "execution_count": 48,
      "metadata": {
        "id": "qS-h0S4MjWgt"
      },
      "outputs": [],
      "source": [
        "mlp = MLPClassifier(\n",
        "    hidden_layer_sizes=(256,3),\n",
        "    max_iter=100,\n",
        "    activation='relu',\n",
        "    alpha=1e-4,\n",
        "    solver=\"adam\",\n",
        "    verbose=True,\n",
        "    random_state=13,\n",
        "    learning_rate_init=0.001,\n",
        ")"
      ]
    },
    {
      "cell_type": "markdown",
      "source": [
        "Entreno el modelo"
      ],
      "metadata": {
        "id": "Qqa31uqcwYTD"
      }
    },
    {
      "cell_type": "code",
      "execution_count": 49,
      "metadata": {
        "colab": {
          "base_uri": "https://localhost:8080/"
        },
        "id": "rJYq4a7_ivxz",
        "outputId": "1c5a601e-da69-443b-e3d9-4b0d35184982"
      },
      "outputs": [
        {
          "output_type": "stream",
          "name": "stdout",
          "text": [
            "Iteration 1, loss = 3.42020530\n",
            "Iteration 2, loss = 2.63884415\n",
            "Iteration 3, loss = 2.18882123\n",
            "Iteration 4, loss = 1.89805977\n",
            "Iteration 5, loss = 1.64353725\n",
            "Iteration 6, loss = 1.42273827\n",
            "Iteration 7, loss = 1.26434809\n",
            "Iteration 8, loss = 1.19178110\n",
            "Iteration 9, loss = 1.07464335\n",
            "Iteration 10, loss = 0.99913947\n",
            "Iteration 11, loss = 0.91733220\n",
            "Iteration 12, loss = 0.88770849\n",
            "Iteration 13, loss = 0.84009396\n",
            "Iteration 14, loss = 0.80100468\n",
            "Iteration 15, loss = 0.74980334\n",
            "Iteration 16, loss = 0.71487752\n",
            "Iteration 17, loss = 0.71206374\n",
            "Iteration 18, loss = 0.67507431\n",
            "Iteration 19, loss = 0.64738933\n",
            "Iteration 20, loss = 0.60242317\n",
            "Iteration 21, loss = 0.59917810\n",
            "Iteration 22, loss = 0.56613605\n",
            "Iteration 23, loss = 0.56831694\n",
            "Iteration 24, loss = 0.53444359\n",
            "Iteration 25, loss = 0.54520539\n",
            "Iteration 26, loss = 0.53135508\n",
            "Iteration 27, loss = 0.56242460\n",
            "Iteration 28, loss = 0.48886438\n",
            "Iteration 29, loss = 0.43868390\n",
            "Iteration 30, loss = 0.45286653\n",
            "Iteration 31, loss = 0.45853977\n",
            "Iteration 32, loss = 0.45187465\n",
            "Iteration 33, loss = 0.46123194\n",
            "Iteration 34, loss = 0.42552294\n",
            "Iteration 35, loss = 0.40211883\n",
            "Iteration 36, loss = 0.36944843\n",
            "Iteration 37, loss = 0.41970101\n",
            "Iteration 38, loss = 0.41897925\n",
            "Iteration 39, loss = 0.38297184\n",
            "Iteration 40, loss = 0.36920113\n",
            "Iteration 41, loss = 0.37577847\n",
            "Iteration 42, loss = 0.36896901\n",
            "Iteration 43, loss = 0.36153675\n",
            "Iteration 44, loss = 0.33273498\n",
            "Iteration 45, loss = 0.39952173\n",
            "Iteration 46, loss = 0.34089035\n",
            "Iteration 47, loss = 0.29688645\n",
            "Iteration 48, loss = 0.31354157\n",
            "Iteration 49, loss = 0.38741724\n",
            "Iteration 50, loss = 0.32305281\n",
            "Iteration 51, loss = 0.29320854\n",
            "Iteration 52, loss = 0.28959774\n",
            "Iteration 53, loss = 0.29838829\n",
            "Iteration 54, loss = 0.30041678\n",
            "Iteration 55, loss = 0.28016929\n",
            "Iteration 56, loss = 0.27999485\n",
            "Iteration 57, loss = 0.28278146\n",
            "Iteration 58, loss = 0.31391980\n",
            "Iteration 59, loss = 0.24828684\n",
            "Iteration 60, loss = 0.26816540\n",
            "Iteration 61, loss = 0.29353369\n",
            "Iteration 62, loss = 0.28207003\n",
            "Iteration 63, loss = 0.31609806\n",
            "Iteration 64, loss = 0.30760746\n",
            "Iteration 65, loss = 0.24615935\n",
            "Iteration 66, loss = 0.23272371\n",
            "Iteration 67, loss = 0.36048708\n",
            "Iteration 68, loss = 0.23844664\n",
            "Iteration 69, loss = 0.21484461\n",
            "Iteration 70, loss = 0.23143881\n",
            "Iteration 71, loss = 0.26844004\n",
            "Iteration 72, loss = 0.27286327\n",
            "Iteration 73, loss = 0.23337624\n",
            "Iteration 74, loss = 0.26060117\n",
            "Iteration 75, loss = 0.26211724\n",
            "Iteration 76, loss = 0.23125639\n",
            "Iteration 77, loss = 0.24116254\n",
            "Iteration 78, loss = 0.22823215\n",
            "Iteration 79, loss = 0.21787016\n",
            "Iteration 80, loss = 0.26959569\n",
            "Training loss did not improve more than tol=0.000100 for 10 consecutive epochs. Stopping.\n"
          ]
        },
        {
          "output_type": "execute_result",
          "data": {
            "text/plain": [
              "MLPClassifier(hidden_layer_sizes=(256, 3), max_iter=100, random_state=13,\n",
              "              verbose=True)"
            ]
          },
          "metadata": {},
          "execution_count": 49
        }
      ],
      "source": [
        "mlp.fit(X_scaled, y_train)"
      ]
    },
    {
      "cell_type": "markdown",
      "source": [
        "Si bien se configuraron 100 épocas, el programa canceló el entrenamiento en la épocas 80, porque no encontró ninguna disminución del las pérdidas en el últimas 10 iteraciones\n",
        "Tambíen uso el StandardScaler en el set de test."
      ],
      "metadata": {
        "id": "xMnf9N8iwdfT"
      }
    },
    {
      "cell_type": "code",
      "execution_count": 50,
      "metadata": {
        "id": "_be5XzYZndXQ"
      },
      "outputs": [],
      "source": [
        "scaler_test = preprocessing.StandardScaler().fit(X_test)\n",
        "X_test_scaled = scaler_test.transform(X_test)"
      ]
    },
    {
      "cell_type": "markdown",
      "source": [
        "Con best_loss_ puedo observar le pérdidas más baja que obtuve con el modelo.\n"
      ],
      "metadata": {
        "id": "-Y4Y_6WGwjXn"
      }
    },
    {
      "cell_type": "code",
      "source": [
        "mlp.best_loss_"
      ],
      "metadata": {
        "colab": {
          "base_uri": "https://localhost:8080/"
        },
        "id": "JiklmR0Hnvxf",
        "outputId": "f77edf02-fa63-4ae4-e994-2771306d82a3"
      },
      "execution_count": 51,
      "outputs": [
        {
          "output_type": "execute_result",
          "data": {
            "text/plain": [
              "0.2148446141896101"
            ]
          },
          "metadata": {},
          "execution_count": 51
        }
      ]
    },
    {
      "cell_type": "markdown",
      "source": [
        "Grafico como evolucionó las pérdidas respecto a las épocas"
      ],
      "metadata": {
        "id": "fDyr45XGwtRM"
      }
    },
    {
      "cell_type": "code",
      "source": [
        "plt.plot(mlp.loss_curve_)\n",
        "plt.ylabel(\"Loss\")\n",
        "plt.xlabel(\"Epocas\")"
      ],
      "metadata": {
        "colab": {
          "base_uri": "https://localhost:8080/",
          "height": 296
        },
        "id": "IufL3Xydn_Jx",
        "outputId": "19bcceb8-03e9-4fe5-9dc5-bf2b7782be97"
      },
      "execution_count": 52,
      "outputs": [
        {
          "output_type": "execute_result",
          "data": {
            "text/plain": [
              "Text(0.5, 0, 'Epocas')"
            ]
          },
          "metadata": {},
          "execution_count": 52
        },
        {
          "output_type": "display_data",
          "data": {
            "text/plain": [
              "<Figure size 432x288 with 1 Axes>"
            ],
            "image/png": "[encoded data removed]"
          },
          "metadata": {
            "needs_background": "light"
          }
        }
      ]
    },
    {
      "cell_type": "markdown",
      "source": [
        "Evaluo la pecisión del test de evaluación.\n",
        "Casi el 70% de la predicciones son correctas."
      ],
      "metadata": {
        "id": "koJmQzSyxFTc"
      }
    },
    {
      "cell_type": "code",
      "execution_count": 53,
      "metadata": {
        "colab": {
          "base_uri": "https://localhost:8080/"
        },
        "id": "MvCPP0d4hMiG",
        "outputId": "85af8623-41bc-407e-a5bb-3f40c5097674"
      },
      "outputs": [
        {
          "output_type": "execute_result",
          "data": {
            "text/plain": [
              "0.6943784639746635"
            ]
          },
          "metadata": {},
          "execution_count": 53
        }
      ],
      "source": [
        "mlp.score(X_test_scaled, y_test)"
      ]
    },
    {
      "cell_type": "code",
      "source": [
        "y_test_pred= mlp.predict(X_test_scaled)"
      ],
      "metadata": {
        "id": "sLrstiIRrWjC"
      },
      "execution_count": 56,
      "outputs": []
    },
    {
      "cell_type": "code",
      "execution_count": 54,
      "metadata": {
        "colab": {
          "base_uri": "https://localhost:8080/"
        },
        "id": "gk6OpPm6hSto",
        "outputId": "6dd95bdb-5328-45b9-e4f1-a9d80110904d"
      },
      "outputs": [
        {
          "output_type": "execute_result",
          "data": {
            "text/plain": [
              "array([ 0,  1,  2,  3,  4,  5,  6,  7,  8,  9, 10, 11, 12, 13, 14, 15, 16,\n",
              "       17, 18, 19, 20, 21, 22, 23, 24, 25, 26, 27, 28, 29, 30, 31, 32, 33,\n",
              "       34, 35, 36, 37, 38, 39, 40, 41, 42], dtype=uint8)"
            ]
          },
          "metadata": {},
          "execution_count": 54
        }
      ],
      "source": [
        "mlp.classes_"
      ]
    },
    {
      "cell_type": "markdown",
      "source": [
        "Además, se evalua la matriz de confusión"
      ],
      "metadata": {
        "id": "DFpaNOLxxSEN"
      }
    },
    {
      "cell_type": "code",
      "execution_count": 57,
      "metadata": {
        "id": "0H9KSmwBjIYU"
      },
      "outputs": [],
      "source": [
        "from sklearn.metrics import confusion_matrix"
      ]
    },
    {
      "cell_type": "code",
      "source": [
        "confusion_matrix(y_test,y_test_pred)"
      ],
      "metadata": {
        "colab": {
          "base_uri": "https://localhost:8080/"
        },
        "id": "oLrBxtdCrhRU",
        "outputId": "be36fb80-9dd7-4a55-eaa1-d0d67a6660da"
      },
      "execution_count": 58,
      "outputs": [
        {
          "output_type": "execute_result",
          "data": {
            "text/plain": [
              "array([[ 26,  20,   1, ...,   0,   0,   0],\n",
              "       [  2, 547, 101, ...,   0,   0,   0],\n",
              "       [  0,  57, 601, ...,   0,   0,   0],\n",
              "       ...,\n",
              "       [  0,   4,   0, ...,  29,   5,   1],\n",
              "       [  0,   0,   0, ...,  17,   5,  13],\n",
              "       [  0,   0,   0, ...,   1,  19,  54]])"
            ]
          },
          "metadata": {},
          "execution_count": 58
        }
      ]
    },
    {
      "cell_type": "code",
      "source": [
        "from sklearn.metrics import plot_confusion_matrix\n",
        "plot_confusion_matrix(mlp, X_test_scaled,y_test) "
      ],
      "metadata": {
        "colab": {
          "base_uri": "https://localhost:8080/",
          "height": 354
        },
        "id": "T3QN9pFfruFB",
        "outputId": "f3790a55-6279-4cdb-8230-f25dfcf34299"
      },
      "execution_count": 59,
      "outputs": [
        {
          "output_type": "stream",
          "name": "stderr",
          "text": [
            "/usr/local/lib/python3.7/dist-packages/sklearn/utils/deprecation.py:87: FutureWarning: Function plot_confusion_matrix is deprecated; Function `plot_confusion_matrix` is deprecated in 1.0 and will be removed in 1.2. Use one of the class methods: ConfusionMatrixDisplay.from_predictions or ConfusionMatrixDisplay.from_estimator.\n",
            "  warnings.warn(msg, category=FutureWarning)\n"
          ]
        },
        {
          "output_type": "execute_result",
          "data": {
            "text/plain": [
              "<sklearn.metrics._plot.confusion_matrix.ConfusionMatrixDisplay at 0x7f1939212810>"
            ]
          },
          "metadata": {},
          "execution_count": 59
        },
        {
          "output_type": "display_data",
          "data": {
            "text/plain": [
              "<Figure size 432x288 with 2 Axes>"
            ],
            "image/png": "[encoded data removed]"
          },
          "metadata": {
            "needs_background": "light"
          }
        }
      ]
    },
    {
      "cell_type": "markdown",
      "source": [
        "Se toman algunas imágenes de ejemplo, y se observa como son predichas por el modelo."
      ],
      "metadata": {
        "id": "2etUrvB-xWOU"
      }
    },
    {
      "cell_type": "code",
      "source": [
        "y_test_pred= mlp.predict(X_test_scaled)"
      ],
      "metadata": {
        "id": "HAdNWhDvsNH_"
      },
      "execution_count": 66,
      "outputs": []
    },
    {
      "cell_type": "code",
      "source": [
        "inx = 2023\n",
        "plt.imshow(signimages_test['features'][inx])\n",
        "print(\"The image shows a {} sign\".format(signnames[signimages_test['labels'][inx]]))\n",
        "print(\"El MPL la detecta como: \"+ signnames[y_test_pred[inx]])"
      ],
      "metadata": {
        "colab": {
          "base_uri": "https://localhost:8080/",
          "height": 301
        },
        "id": "KzxTNYiAs1h8",
        "outputId": "1846b20a-ff5d-47f5-ef78-4e43005be3b6"
      },
      "execution_count": 75,
      "outputs": [
        {
          "output_type": "stream",
          "name": "stdout",
          "text": [
            "The image shows a Speed limit (70km/h) sign\n",
            "El MPL la detecta como: Speed limit (50km/h)\n"
          ]
        },
        {
          "output_type": "display_data",
          "data": {
            "text/plain": [
              "<Figure size 432x288 with 1 Axes>"
            ],
            "image/png": "[encoded data removed]"
          },
          "metadata": {
            "needs_background": "light"
          }
        }
      ]
    },
    {
      "cell_type": "code",
      "source": [
        "inx = 8023\n",
        "plt.imshow(signimages_test['features'][inx])\n",
        "print(\"The image shows a {} sign\".format(signnames[signimages_test['labels'][inx]]))\n",
        "print(\"El MPL la detecta como: \"+ signnames[y_test_pred[inx]])"
      ],
      "metadata": {
        "colab": {
          "base_uri": "https://localhost:8080/",
          "height": 301
        },
        "id": "pJ4ruXlhsWIW",
        "outputId": "dda5aa4f-b8fd-4299-f1b6-1b05c1474dea"
      },
      "execution_count": 76,
      "outputs": [
        {
          "output_type": "stream",
          "name": "stdout",
          "text": [
            "The image shows a No passing sign\n",
            "El MPL la detecta como: No passing\n"
          ]
        },
        {
          "output_type": "display_data",
          "data": {
            "text/plain": [
              "<Figure size 432x288 with 1 Axes>"
            ],
            "image/png": "[encoded data removed]"
          },
          "metadata": {
            "needs_background": "light"
          }
        }
      ]
    },
    {
      "cell_type": "code",
      "source": [
        "inx = 10023\n",
        "plt.imshow(signimages_test['features'][inx])\n",
        "print(\"The image shows a {} sign\".format(signnames[signimages_test['labels'][inx]]))\n",
        "print(\"El MPL la detecta como: \"+ signnames[y_test_pred[inx]])"
      ],
      "metadata": {
        "colab": {
          "base_uri": "https://localhost:8080/",
          "height": 301
        },
        "id": "EFOJBgOGuP2n",
        "outputId": "53e99198-2c47-45fd-d0c4-e5a98974d599"
      },
      "execution_count": 77,
      "outputs": [
        {
          "output_type": "stream",
          "name": "stdout",
          "text": [
            "The image shows a Speed limit (70km/h) sign\n",
            "El MPL la detecta como: Speed limit (70km/h)\n"
          ]
        },
        {
          "output_type": "display_data",
          "data": {
            "text/plain": [
              "<Figure size 432x288 with 1 Axes>"
            ],
            "image/png": "[encoded data removed]"
          },
          "metadata": {
            "needs_background": "light"
          }
        }
      ]
    },
    {
      "cell_type": "code",
      "source": [
        "inx = 1024\n",
        "plt.imshow(signimages_test['features'][inx])\n",
        "print(\"The image shows a {} sign\".format(signnames[signimages_test['labels'][inx]]))\n",
        "print(\"El MPL la detecta como: \"+ signnames[y_test_pred[inx]])"
      ],
      "metadata": {
        "colab": {
          "base_uri": "https://localhost:8080/",
          "height": 301
        },
        "id": "MogKLXjVuUGP",
        "outputId": "c21f016e-d43a-47bd-d30b-fe0c53ca0a5c"
      },
      "execution_count": 78,
      "outputs": [
        {
          "output_type": "stream",
          "name": "stdout",
          "text": [
            "The image shows a Keep right sign\n",
            "El MPL la detecta como: Keep right\n"
          ]
        },
        {
          "output_type": "display_data",
          "data": {
            "text/plain": [
              "<Figure size 432x288 with 1 Axes>"
            ],
            "image/png": "[encoded data removed]"
          },
          "metadata": {
            "needs_background": "light"
          }
        }
      ]
    },
    {
      "cell_type": "markdown",
      "source": [
        "Para mejorar la clasificación, se podría trabajar sobre el centrado de las imágenes. Ya que algunas se encuentran corridas.\n",
        "Además, se podrían evaluar diferentes configuraciones de cantidad de neuronas y capas. Pero al hacer esto, estoy haciendo más lento el entrenamiento.\n",
        "\n",
        "También se podría evaluar los hiperametros con gridsearcCV, explorando las distintas activaciones (Relu, TanH, etc.), los distintos métodos de optimización (SGD, ADAM), y también diferentes tasas de aprendizaje (por ejemplo 0.1, 0.01, 0.001).\n",
        "\n",
        "Vale la pena aclarar, que el conjunto de Validación no fue utilizado, ya que la función mlpclassifier de Sklearn, no permite ingresar el dataset de validación\n"
      ],
      "metadata": {
        "id": "N8-blbrKxnCY"
      }
    },
    {
      "cell_type": "code",
      "source": [],
      "metadata": {
        "id": "RcIAQXzgypso"
      },
      "execution_count": null,
      "outputs": []
    }
  ],
  "metadata": {
    "colab": {
      "provenance": []
    },
    "kernelspec": {
      "display_name": "Python 3",
      "language": "python",
      "name": "python3"
    },
    "language_info": {
      "codemirror_mode": {
        "name": "ipython",
        "version": 3
      },
      "file_extension": ".py",
      "mimetype": "text/x-python",
      "name": "python",
      "nbconvert_exporter": "python",
      "pygments_lexer": "ipython3",
      "version": "3.7.4"
    }
  },
  "nbformat": 4,
  "nbformat_minor": 0
}